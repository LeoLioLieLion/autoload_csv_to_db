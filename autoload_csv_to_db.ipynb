{
  "cells": [
    {
      "cell_type": "code",
      "execution_count": null,
      "metadata": {
        "collapsed": true,
        "id": "PONUds11VPuI"
      },
      "outputs": [],
      "source": [
        "import pandas as pd\n",
        "import os\n",
        "import pyodbc\n",
        "import shutil\n",
        "from datetime import datetime\n",
        "from tqdm import tqdm"
      ]
    },
    {
      "cell_type": "code",
      "execution_count": null,
      "metadata": {
        "collapsed": true,
        "id": "NTf1MkmnVPuM"
      },
      "outputs": [],
      "source": [
        "encd = 'utf-8'\n",
        "delim = '\\t'\n",
        "table_name = 'schema.table_name'"
      ]
    },
    {
      "cell_type": "code",
      "execution_count": null,
      "metadata": {
        "id": "O5xQY_RnVPuN"
      },
      "outputs": [],
      "source": [
        "#Блок для просмотра фрагмента файла-образца\n",
        "print(f'in/{os.listdir(\"in\")[0]}')\n",
        "with open(f'in/{os.listdir(\"in\")[0]}', encoding = encd) as sample:\n",
        "    i = 5\n",
        "    for line in sample:\n",
        "        print(line)\n",
        "        i-=1\n",
        "        if not i:\n",
        "            break"
      ]
    },
    {
      "cell_type": "code",
      "execution_count": null,
      "metadata": {
        "collapsed": true,
        "id": "ikzf5K0nVPuN"
      },
      "outputs": [],
      "source": [
        "ceiling = 2**63-1\n",
        "\n",
        "def convert_int(x):\n",
        "    if pd.isnull(x):\n",
        "        return 0\n",
        "    if x[0] == '0' and len(x)>1:\n",
        "        raise ValueError\n",
        "    if abs(int(x)) >= ceiling:\n",
        "        raise ValueError\n",
        "    return int(x)\n",
        "    \n",
        "def convert_float(x):\n",
        "    if pd.isnull(x):\n",
        "        return None\n",
        "    if len(x) > 1:\n",
        "        if x[0] == 0 and x[1] != '.': \n",
        "            #два условия стоят раздельно, чтобы не вызывать исключений\n",
        "            raise ValueError\n",
        "    return float(x)\n",
        "    \n",
        "def convert_date(x):\n",
        "    if pd.isnull(x):\n",
        "        return None\n",
        "    return datetime.strptime(x,'%Y-%m-%d %H:%M:%S')"
      ]
    },
    {
      "cell_type": "code",
      "execution_count": null,
      "metadata": {
        "collapsed": true,
        "id": "Wjlp69PgVPuO"
      },
      "outputs": [],
      "source": [
        "class SampleTable:\n",
        "    def __init__(self):\n",
        "        self.df = None #DataFrame-образец\n",
        "        self.dtypes = dict() #типы данных Python\n",
        "        self.dt_cols = list() #список колонок с датами\n",
        "        self.sql_types = dict() #типы данных SQL\n",
        "    #----------#\n",
        "    def take_sample_df(self,file):\n",
        "        self.df = pd.read_csv(f'in/{file}', encoding = encd, sep = delim, dtype = str)\n",
        "        self.convert_columns() #метод для анализа типов Python\n",
        "        self.compile_sql_types() #метод для анализа типов SQL\n",
        "        self.col_names = self.df.columns.tolist()\n",
        "        #после обработки файла-образца перемещаем его в папку out\n",
        "        shutil.move(f'in/{file}',f'out/{file}') \n",
        "    #----------#\n",
        "    def convert_columns(self):\n",
        "        for column in self.df.columns:\n",
        "            #если колонка пустая, то помечаем ее как строчный тип\n",
        "            if not any(self.df[column]): \n",
        "                self.dtypes[column]=str\n",
        "                continue\n",
        "            #Сначала пробуем конвертировать значения в даты\n",
        "            try:\n",
        "                self.df[column] = self.df[column].apply(convert_date)\n",
        "                self.dtypes[column]=datetime\n",
        "                self.sql_types[column]='datetime'\n",
        "            except ValueError:\n",
        "                pass\n",
        "            else:\n",
        "                continue\n",
        "            #Если в колонке не даты, пробуем конвертировать в числа\n",
        "            try:\n",
        "                self.df[column] = self.df[column].apply(convert_int)\n",
        "                self.dtypes[column]=int\n",
        "            except ValueError:\n",
        "                pass\n",
        "            else:\n",
        "                continue\n",
        "            try:\n",
        "                self.df[column] = self.df[column].apply(convert_float)\n",
        "                self.dtypes[column]=float\n",
        "                self.sql_types[column]='float'\n",
        "            except ValueError:\n",
        "                #Если в колонке не даты и не числа, то оставляем значения в строках \n",
        "                self.dtypes[column]=str\n",
        "    #----------#\n",
        "    def compile_sql_types(self):\n",
        "        for column in self.df.columns:\n",
        "            #Если колонка содержит целые числа\n",
        "            if self.dtypes[column] == int:\n",
        "                #Находим длину самого большого числа в битах\n",
        "                max_num = max(self.df[column])\n",
        "                if max_num.bit_length() <=32:\n",
        "                    self.sql_types[column]='int'\n",
        "                else:\n",
        "                    self.sql_types[column]='bigint'\n",
        "                continue\n",
        "            #Если колонка содержит строки и не содержит дат\n",
        "            if self.dtypes[column] == str and column not in self.dt_cols:\n",
        "                #Находим самую большую длину среди строк в байтах\n",
        "                lens = self.df[column].apply(lambda x: 0 if pd.isnull(x) else len(x.encode('utf-8'))).tolist()\n",
        "                max_len = max(lens)\n",
        "                if max_len <= 255:\n",
        "                    self.sql_types[column] = f'varchar(255)'\n",
        "                else:\n",
        "                    self.sql_types[column] = f'varchar(max)'\n",
        "    #----------#\n",
        "    def sql_create_table(self, conn):\n",
        "        cols = []\n",
        "        #Собираем пары вида \"название_колонки тип\"\n",
        "        for column in self.df.columns:\n",
        "            sql_col_type = self.sql_types[column]\n",
        "            cols.append(f'{column} {sql_col_type}')\n",
        "        #Объединяем пары через запятую для построения запроса\n",
        "        cols = ','.join(cols)\n",
        "        query = f\"if not exists (select * from sys.tables where name='{table_name}') create table {table_name} ({cols})\"\n",
        "        try:\n",
        "            cursor = conn.cursor()\n",
        "            cursor.execute(query)\n",
        "            cursor.commit()\n",
        "        except Exception as err:\n",
        "            #При неудаче откатываем операцию\n",
        "            print(err)\n",
        "            cursor.rollback()\n",
        "        finally:\n",
        "            cursor.close()\n",
        "    #----------#\n",
        "    def sql_load_sample(self, conn):\n",
        "        #Шаблон запроса для pyodbc имеет вид \"insert into table values (?,?,?,?,...)\"\n",
        "        #Количество вопросительных знаков должно соответствовать числу колонок в таблице\n",
        "        query = 'insert into {} values ({})'.format(table_name,','.join(['?']*len(self.df.columns)))\n",
        "        try:\n",
        "            cursor = conn.cursor()\n",
        "            #Опция cursor.fast_executemany доступна в pyodbc версии 4.0.19 и выше\n",
        "            cursor.fast_executemany = True\n",
        "            cursor.executemany(query, self.df.values.tolist())\n",
        "            cursor.commit()\n",
        "        except Exception as e:\n",
        "            #При неудаче откатываем операцию\n",
        "            print(e)\n",
        "            cursor.rollback()\n",
        "        finally:\n",
        "            cursor.close()\n",
        "    #----------#\n",
        "    def sql_load_file(self, file, conn):\n",
        "        df = pd.read_csv(f'in/{file}', encoding = encd, sep = delim, dtype = str)\n",
        "        for column in df.columns:\n",
        "            if self.dtypes[column]==datetime:\n",
        "                df[column] = df[column].apply(convert_date)\n",
        "            elif self.dtypes[column]==int:\n",
        "                df[column] = df[column].apply(convert_int)\n",
        "            elif self.dtypes[column]==float:\n",
        "                df[column] = df[column].apply(convert_float)\n",
        "        query = 'insert into {} values ({})'.format(table_name,','.join(['?']*len(df.columns)))\n",
        "        try:\n",
        "            cursor = conn.cursor()\n",
        "            cursor.fast_executemany = True\n",
        "            cursor.executemany(query, df.values.tolist())\n",
        "            cursor.commit()\n",
        "            shutil.move(f'in/{file}',f'out/{file}')\n",
        "        except Exception as e:\n",
        "            print(e)\n",
        "            print(file)\n",
        "            cursor.rollback()\n",
        "        finally:\n",
        "            cursor.close()"
      ]
    },
    {
      "cell_type": "code",
      "execution_count": null,
      "metadata": {
        "scrolled": true,
        "id": "lvxxZ9FWVPuS"
      },
      "outputs": [],
      "source": [
        "sample_table = SampleTable()\n",
        "sample_table.take_sample_df(os.listdir('in')[0])\n",
        "sample_table.df"
      ]
    },
    {
      "cell_type": "code",
      "execution_count": null,
      "metadata": {
        "id": "p4PhAGuJVPuT"
      },
      "outputs": [],
      "source": [
        "sample_table.dtypes"
      ]
    },
    {
      "cell_type": "code",
      "execution_count": null,
      "metadata": {
        "scrolled": true,
        "id": "dqzO7hmKVPuT"
      },
      "outputs": [],
      "source": [
        "sample_table.sql_types"
      ]
    },
    {
      "cell_type": "code",
      "execution_count": null,
      "metadata": {
        "collapsed": true,
        "id": "iczSIz6hVPuT"
      },
      "outputs": [],
      "source": [
        "conn = pyodbc.connect(\"Driver={SQL Server native Client 11.0};\"\n",
        "                      \"Server=data_warehouse;\"\n",
        "                      \"Port=0000;\"\n",
        "                      \"Database=sample_db;\"\n",
        "                      \"Trusted_Connection=yes\", autocommit=False)"
      ]
    },
    {
      "cell_type": "code",
      "execution_count": null,
      "metadata": {
        "collapsed": true,
        "id": "NMSoblMbVPuU"
      },
      "outputs": [],
      "source": [
        "sample_table.sql_create_table(conn)\n",
        "sample_table.sql_load_sample(conn)"
      ]
    },
    {
      "cell_type": "code",
      "execution_count": null,
      "metadata": {
        "id": "9y75f9C5VPuU"
      },
      "outputs": [],
      "source": [
        "for file in tqdm(os.listdir('in')):\n",
        "    sample_table.sql_load_file(file,conn)"
      ]
    },
    {
      "cell_type": "code",
      "execution_count": null,
      "metadata": {
        "id": "nDhQfwt7VPuU"
      },
      "outputs": [],
      "source": [
        "conn.close()"
      ]
    },
    {
      "cell_type": "code",
      "execution_count": null,
      "metadata": {
        "collapsed": true,
        "id": "A6Wy_K0oVPuV"
      },
      "outputs": [],
      "source": [
        ""
      ]
    }
  ],
  "metadata": {
    "kernelspec": {
      "display_name": "Python 3",
      "language": "python",
      "name": "python3"
    },
    "language_info": {
      "codemirror_mode": {
        "name": "ipython",
        "version": 3
      },
      "file_extension": ".py",
      "mimetype": "text/x-python",
      "name": "python",
      "nbconvert_exporter": "python",
      "pygments_lexer": "ipython3",
      "version": "3.7.4"
    },
    "colab": {
      "name": "autoload_csv_to_db.ipynb",
      "provenance": [],
      "collapsed_sections": []
    }
  },
  "nbformat": 4,
  "nbformat_minor": 0
}
